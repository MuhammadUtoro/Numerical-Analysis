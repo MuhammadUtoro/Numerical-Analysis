{
 "cells": [
  {
   "cell_type": "markdown",
   "metadata": {},
   "source": [
    "## Practicing to derive formula for approximating derivative from Taylor Series"
   ]
  },
  {
   "cell_type": "markdown",
   "metadata": {},
   "source": [
    "In this case, we compare the error from forward and central scheme. Using the forward scheme we use two points after the center (a). The function is $\\sin{\\left(x\\right)}$\n",
    "\n",
    "The points are, $\\mathit{f\\left(a\\right)}$, $\\mathit{f\\left(a+\\Delta{x}\\right)}$, $\\mathit{f\\left(a+2 \\Delta{x}\\right)}$ \n",
    "\n",
    "The formula for the 2nd derivative is as followed: $$\\mathit{f\\left(a\\right)}\\prime\\prime = \\frac{\\mathit{f\\left(a\\right)} - 2\\mathit{f\\left(a+\\Delta{x}\\right)} + \\mathit{f\\left(a+2 \\Delta{x}\\right)}}{\\left(\\Delta{x}\\right)^2} + \\bold{O}$$\n",
    "\n",
    "We arre going to evaluate the value of f'' evaluate at a"
   ]
  },
  {
   "cell_type": "code",
   "execution_count": 71,
   "metadata": {},
   "outputs": [],
   "source": [
    "import numpy as np\n",
    "import matplotlib.pyplot as plt\n",
    "\n",
    "x = np.linspace(-np.pi, np.pi, 100)\n",
    "a = np.sin((np.pi/2) + 0.2) # The larger the distance, less accurate the approximation would be since the idea is to expand around the center point\n",
    "b = np.sin((np.pi/2))\n",
    "dx = b - a\n",
    "y_exact = -np.sin(a)"
   ]
  },
  {
   "cell_type": "markdown",
   "metadata": {},
   "source": [
    "## Apply the approximation formula"
   ]
  },
  {
   "cell_type": "code",
   "execution_count": 72,
   "metadata": {},
   "outputs": [],
   "source": [
    "y_frwrd = ((np.sin(a) - 2*np.sin(a + dx) + np.sin(a + 2*dx))/(dx)**2)+10*(-np.cos(a)*dx)/6 # This is using the forward scheme where the leading error term is dx"
   ]
  },
  {
   "cell_type": "markdown",
   "metadata": {},
   "source": [
    "Now we use the central scheme. The formula for the 2nd derivative using central scheme is as followed: $$\\mathit{f\\left(a\\right)}\\prime\\prime = \\frac{\\mathit{f\\left(a\\right)} - 2\\mathit{f\\left(a+\\Delta{x}\\right)} + \\mathit{f\\left(a+2 \\Delta{x}\\right)}}{\\left(\\Delta{x}\\right)^2} + \\bold{O^2}$$\n",
    "\n",
    "We can see that using the central scheme, we'll get one 'extra' order of accuracy"
   ]
  },
  {
   "cell_type": "code",
   "execution_count": 73,
   "metadata": {},
   "outputs": [],
   "source": [
    "y_cntrl = ((np.sin(a) - 2*np.sin(a + dx) + np.sin(a + 2*dx))/(dx)**2)+2*(np.sin(a)*(dx)**2)/24 # This is using the forward scheme where the leading error term is dx^2"
   ]
  },
  {
   "cell_type": "markdown",
   "metadata": {},
   "source": [
    "Compare the error between forward and central scheme"
   ]
  },
  {
   "cell_type": "code",
   "execution_count": 74,
   "metadata": {},
   "outputs": [
    {
     "name": "stdout",
     "output_type": "stream",
     "text": [
      "forward error is:  3.5413872023538353 \n",
      "central error is:  1.3101404816539621\n"
     ]
    }
   ],
   "source": [
    "frwrd_error = ((y_frwrd-y_exact)/y_exact)*100\n",
    "cntrl_error = ((y_cntrl-y_exact)/y_exact)*100\n",
    "\n",
    "print(f'forward error is: ', frwrd_error,'\\n'f'central error is: ', cntrl_error) # We can see that the error is much smaller using the central scheme\n"
   ]
  }
 ],
 "metadata": {
  "kernelspec": {
   "display_name": "base",
   "language": "python",
   "name": "python3"
  },
  "language_info": {
   "codemirror_mode": {
    "name": "ipython",
    "version": 3
   },
   "file_extension": ".py",
   "mimetype": "text/x-python",
   "name": "python",
   "nbconvert_exporter": "python",
   "pygments_lexer": "ipython3",
   "version": "3.11.5"
  }
 },
 "nbformat": 4,
 "nbformat_minor": 2
}
